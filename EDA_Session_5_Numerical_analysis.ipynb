{
 "cells": [
  {
   "cell_type": "code",
   "execution_count": 2,
   "id": "9c3d3c76-65fa-4c22-a226-a1d91cd9ac73",
   "metadata": {},
   "outputs": [],
   "source": [
    "import pandas as pd\n",
    "import numpy as np\n",
    "import matplotlib.pyplot as plt\n",
    "import seaborn as sns"
   ]
  },
  {
   "cell_type": "code",
   "execution_count": 3,
   "id": "3184eb66-e458-4804-b515-8e15c311a222",
   "metadata": {},
   "outputs": [
    {
     "data": {
      "text/html": [
       "<div>\n",
       "<style scoped>\n",
       "    .dataframe tbody tr th:only-of-type {\n",
       "        vertical-align: middle;\n",
       "    }\n",
       "\n",
       "    .dataframe tbody tr th {\n",
       "        vertical-align: top;\n",
       "    }\n",
       "\n",
       "    .dataframe thead th {\n",
       "        text-align: right;\n",
       "    }\n",
       "</style>\n",
       "<table border=\"1\" class=\"dataframe\">\n",
       "  <thead>\n",
       "    <tr style=\"text-align: right;\">\n",
       "      <th></th>\n",
       "      <th>case_id</th>\n",
       "      <th>continent</th>\n",
       "      <th>education_of_employee</th>\n",
       "      <th>has_job_experience</th>\n",
       "      <th>requires_job_training</th>\n",
       "      <th>no_of_employees</th>\n",
       "      <th>yr_of_estab</th>\n",
       "      <th>region_of_employment</th>\n",
       "      <th>prevailing_wage</th>\n",
       "      <th>unit_of_wage</th>\n",
       "      <th>full_time_position</th>\n",
       "      <th>case_status</th>\n",
       "    </tr>\n",
       "  </thead>\n",
       "  <tbody>\n",
       "    <tr>\n",
       "      <th>0</th>\n",
       "      <td>EZYV01</td>\n",
       "      <td>Asia</td>\n",
       "      <td>High School</td>\n",
       "      <td>N</td>\n",
       "      <td>N</td>\n",
       "      <td>14513</td>\n",
       "      <td>2007</td>\n",
       "      <td>West</td>\n",
       "      <td>592.2029</td>\n",
       "      <td>Hour</td>\n",
       "      <td>Y</td>\n",
       "      <td>Denied</td>\n",
       "    </tr>\n",
       "    <tr>\n",
       "      <th>1</th>\n",
       "      <td>EZYV02</td>\n",
       "      <td>Asia</td>\n",
       "      <td>Master's</td>\n",
       "      <td>Y</td>\n",
       "      <td>N</td>\n",
       "      <td>2412</td>\n",
       "      <td>2002</td>\n",
       "      <td>Northeast</td>\n",
       "      <td>83425.6500</td>\n",
       "      <td>Year</td>\n",
       "      <td>Y</td>\n",
       "      <td>Certified</td>\n",
       "    </tr>\n",
       "  </tbody>\n",
       "</table>\n",
       "</div>"
      ],
      "text/plain": [
       "  case_id continent education_of_employee has_job_experience  \\\n",
       "0  EZYV01      Asia           High School                  N   \n",
       "1  EZYV02      Asia              Master's                  Y   \n",
       "\n",
       "  requires_job_training  no_of_employees  yr_of_estab region_of_employment  \\\n",
       "0                     N            14513         2007                 West   \n",
       "1                     N             2412         2002            Northeast   \n",
       "\n",
       "   prevailing_wage unit_of_wage full_time_position case_status  \n",
       "0         592.2029         Hour                  Y      Denied  \n",
       "1       83425.6500         Year                  Y   Certified  "
      ]
     },
     "execution_count": 3,
     "metadata": {},
     "output_type": "execute_result"
    }
   ],
   "source": [
    "visa_df=pd.read_csv(r\"C:\\Users\\kolli\\Documents\\Naresh IT\\data files\\\\Visadataset.csv\")\n",
    "visa_df.head(2)"
   ]
  },
  {
   "cell_type": "markdown",
   "id": "217e8301-300f-4f03-9f7b-d857080b9f99",
   "metadata": {},
   "source": [
    "**Select the numerical columns**"
   ]
  },
  {
   "cell_type": "code",
   "execution_count": 4,
   "id": "620b100d-2fde-4e95-bbc9-b0cabbbf1a59",
   "metadata": {},
   "outputs": [
    {
     "data": {
      "text/plain": [
       "Index(['no_of_employees', 'yr_of_estab', 'prevailing_wage'], dtype='object')"
      ]
     },
     "execution_count": 4,
     "metadata": {},
     "output_type": "execute_result"
    }
   ],
   "source": [
    "visa_df.select_dtypes(exclude='object').columns"
   ]
  },
  {
   "cell_type": "code",
   "execution_count": 5,
   "id": "8c6a12aa-9ba8-4ba9-a7b0-730e48976709",
   "metadata": {},
   "outputs": [
    {
     "data": {
      "text/plain": [
       "case_id                   object\n",
       "continent                 object\n",
       "education_of_employee     object\n",
       "has_job_experience        object\n",
       "requires_job_training     object\n",
       "no_of_employees            int64\n",
       "yr_of_estab                int64\n",
       "region_of_employment      object\n",
       "prevailing_wage          float64\n",
       "unit_of_wage              object\n",
       "full_time_position        object\n",
       "case_status               object\n",
       "dtype: object"
      ]
     },
     "execution_count": 5,
     "metadata": {},
     "output_type": "execute_result"
    }
   ],
   "source": [
    "visa_df.dtypes"
   ]
  },
  {
   "cell_type": "markdown",
   "id": "3c5cc65c-9978-48e9-93f5-851f495b52da",
   "metadata": {},
   "source": [
    "**prevailing_wage**"
   ]
  },
  {
   "cell_type": "markdown",
   "id": "23ae3a74-ee97-4886-9de8-25ffce81d4ac",
   "metadata": {},
   "source": [
    "**Count or len**"
   ]
  },
  {
   "cell_type": "code",
   "execution_count": 6,
   "id": "3b2385a8-5a61-4341-b127-6780982a7680",
   "metadata": {},
   "outputs": [
    {
     "data": {
      "text/plain": [
       "25480"
      ]
     },
     "execution_count": 6,
     "metadata": {},
     "output_type": "execute_result"
    }
   ],
   "source": [
    "len(visa_df['prevailing_wage'])"
   ]
  },
  {
   "cell_type": "markdown",
   "id": "abcc6ead-e0fa-4e41-a0d1-70a153283444",
   "metadata": {},
   "source": [
    "**max**"
   ]
  },
  {
   "cell_type": "code",
   "execution_count": 7,
   "id": "aaea1030-2837-4c07-aedc-555001641005",
   "metadata": {},
   "outputs": [
    {
     "data": {
      "text/plain": [
       "319210.27"
      ]
     },
     "execution_count": 7,
     "metadata": {},
     "output_type": "execute_result"
    }
   ],
   "source": [
    "max(visa_df['prevailing_wage'])#keyword "
   ]
  },
  {
   "cell_type": "code",
   "execution_count": 8,
   "id": "619bc0b9-b8d1-4584-b5b0-81c0c556821d",
   "metadata": {},
   "outputs": [
    {
     "data": {
      "text/plain": [
       "319210.27"
      ]
     },
     "execution_count": 8,
     "metadata": {},
     "output_type": "execute_result"
    }
   ],
   "source": [
    "visa_df['prevailing_wage'].max() #pandas"
   ]
  },
  {
   "cell_type": "code",
   "execution_count": 9,
   "id": "212eb414-0302-49cf-9b8d-6339cb208cd8",
   "metadata": {},
   "outputs": [
    {
     "data": {
      "text/plain": [
       "319210.27"
      ]
     },
     "execution_count": 9,
     "metadata": {},
     "output_type": "execute_result"
    }
   ],
   "source": [
    "np.max(visa_df['prevailing_wage']) #numpy"
   ]
  },
  {
   "cell_type": "markdown",
   "id": "bd6e14d5-b1a6-48d0-bf59-cca9069e3a4d",
   "metadata": {},
   "source": [
    "**Min**"
   ]
  },
  {
   "cell_type": "code",
   "execution_count": 8,
   "id": "531bb75d-ffbc-47cc-a253-e5d22bb201d8",
   "metadata": {},
   "outputs": [
    {
     "data": {
      "text/plain": [
       "2.1367"
      ]
     },
     "execution_count": 8,
     "metadata": {},
     "output_type": "execute_result"
    }
   ],
   "source": [
    "min(visa_df['prevailing_wage'])"
   ]
  },
  {
   "cell_type": "code",
   "execution_count": 9,
   "id": "111e4298-80f6-44f2-a83b-26bf6287391f",
   "metadata": {},
   "outputs": [
    {
     "data": {
      "text/plain": [
       "2.1367"
      ]
     },
     "execution_count": 9,
     "metadata": {},
     "output_type": "execute_result"
    }
   ],
   "source": [
    "visa_df['prevailing_wage'].min()"
   ]
  },
  {
   "cell_type": "code",
   "execution_count": 10,
   "id": "dd78dea1-8c70-45f7-8464-8b89ef975615",
   "metadata": {},
   "outputs": [
    {
     "data": {
      "text/plain": [
       "2.1367"
      ]
     },
     "execution_count": 10,
     "metadata": {},
     "output_type": "execute_result"
    }
   ],
   "source": [
    "np.min(visa_df['prevailing_wage']) #numpy"
   ]
  },
  {
   "cell_type": "markdown",
   "id": "b8e5209a-6d1c-4ea3-a4c6-f371493cf01c",
   "metadata": {},
   "source": [
    "**mean**"
   ]
  },
  {
   "cell_type": "code",
   "execution_count": 11,
   "id": "46f5b60c-fe06-44f6-83db-939a81bcd3de",
   "metadata": {},
   "outputs": [
    {
     "data": {
      "text/plain": [
       "74455.81459209183"
      ]
     },
     "execution_count": 11,
     "metadata": {},
     "output_type": "execute_result"
    }
   ],
   "source": [
    "visa_df['prevailing_wage'].mean()"
   ]
  },
  {
   "cell_type": "code",
   "execution_count": 12,
   "id": "854b883c-9272-4c99-b0ea-ee956c366766",
   "metadata": {},
   "outputs": [
    {
     "data": {
      "text/plain": [
       "74455.81459209183"
      ]
     },
     "execution_count": 12,
     "metadata": {},
     "output_type": "execute_result"
    }
   ],
   "source": [
    "np.mean(visa_df['prevailing_wage'])"
   ]
  },
  {
   "cell_type": "markdown",
   "id": "ccede4dd-781f-46d2-b3a1-9414a079dd98",
   "metadata": {},
   "source": [
    "**median**"
   ]
  },
  {
   "cell_type": "code",
   "execution_count": 13,
   "id": "be4def03-928f-4739-9ba4-805855bff2ce",
   "metadata": {},
   "outputs": [
    {
     "data": {
      "text/plain": [
       "70308.20999999999"
      ]
     },
     "execution_count": 13,
     "metadata": {},
     "output_type": "execute_result"
    }
   ],
   "source": [
    "visa_df['prevailing_wage'].median()"
   ]
  },
  {
   "cell_type": "code",
   "execution_count": 14,
   "id": "057d296b-8d3a-43cf-863d-7acc947030af",
   "metadata": {},
   "outputs": [
    {
     "data": {
      "text/plain": [
       "70308.20999999999"
      ]
     },
     "execution_count": 14,
     "metadata": {},
     "output_type": "execute_result"
    }
   ],
   "source": [
    "np.median(visa_df['prevailing_wage'])"
   ]
  },
  {
   "cell_type": "markdown",
   "id": "9ecee9f1-72d2-4746-9a90-45ab796a6545",
   "metadata": {},
   "source": [
    "**std**"
   ]
  },
  {
   "cell_type": "code",
   "execution_count": 15,
   "id": "034855eb-df1d-421a-8dc9-f66c000c65e5",
   "metadata": {},
   "outputs": [
    {
     "data": {
      "text/plain": [
       "52815.94232687357"
      ]
     },
     "execution_count": 15,
     "metadata": {},
     "output_type": "execute_result"
    }
   ],
   "source": [
    "visa_df['prevailing_wage'].std()"
   ]
  },
  {
   "cell_type": "code",
   "execution_count": 16,
   "id": "60bf61df-c8ca-414a-b5a6-772dc3d54ca7",
   "metadata": {},
   "outputs": [
    {
     "data": {
      "text/plain": [
       "52814.90589711402"
      ]
     },
     "execution_count": 16,
     "metadata": {},
     "output_type": "execute_result"
    }
   ],
   "source": [
    "np.std(visa_df['prevailing_wage'])"
   ]
  },
  {
   "cell_type": "markdown",
   "id": "1ed72b92-c27d-4ed1-809b-1d1163093225",
   "metadata": {},
   "source": [
    "**Mode is not good option because it is a numerical variable**"
   ]
  },
  {
   "cell_type": "code",
   "execution_count": 10,
   "id": "6e07f1e7-f148-4a9a-ba86-ff5312d364cc",
   "metadata": {},
   "outputs": [
    {
     "data": {
      "text/html": [
       "<div>\n",
       "<style scoped>\n",
       "    .dataframe tbody tr th:only-of-type {\n",
       "        vertical-align: middle;\n",
       "    }\n",
       "\n",
       "    .dataframe tbody tr th {\n",
       "        vertical-align: top;\n",
       "    }\n",
       "\n",
       "    .dataframe thead th {\n",
       "        text-align: right;\n",
       "    }\n",
       "</style>\n",
       "<table border=\"1\" class=\"dataframe\">\n",
       "  <thead>\n",
       "    <tr style=\"text-align: right;\">\n",
       "      <th></th>\n",
       "      <th>prevailing_wage</th>\n",
       "    </tr>\n",
       "  </thead>\n",
       "  <tbody>\n",
       "    <tr>\n",
       "      <th>count</th>\n",
       "      <td>25480.00</td>\n",
       "    </tr>\n",
       "    <tr>\n",
       "      <th>min</th>\n",
       "      <td>2.14</td>\n",
       "    </tr>\n",
       "    <tr>\n",
       "      <th>max</th>\n",
       "      <td>319210.27</td>\n",
       "    </tr>\n",
       "    <tr>\n",
       "      <th>mean</th>\n",
       "      <td>74455.81</td>\n",
       "    </tr>\n",
       "    <tr>\n",
       "      <th>median</th>\n",
       "      <td>70308.21</td>\n",
       "    </tr>\n",
       "    <tr>\n",
       "      <th>std</th>\n",
       "      <td>52815.94</td>\n",
       "    </tr>\n",
       "  </tbody>\n",
       "</table>\n",
       "</div>"
      ],
      "text/plain": [
       "        prevailing_wage\n",
       "count          25480.00\n",
       "min                2.14\n",
       "max           319210.27\n",
       "mean           74455.81\n",
       "median         70308.21\n",
       "std            52815.94"
      ]
     },
     "execution_count": 10,
     "metadata": {},
     "output_type": "execute_result"
    }
   ],
   "source": [
    "list_vales=[]\n",
    "wage_count=len(visa_df['prevailing_wage'])\n",
    "wage_max=visa_df['prevailing_wage'].max()\n",
    "wage_min=round(visa_df['prevailing_wage'].min(),2)\n",
    "wage_mean=round(visa_df['prevailing_wage'].mean(),2)\n",
    "wage_median=round(visa_df['prevailing_wage'].median(),2)\n",
    "wage_std=round(visa_df['prevailing_wage'].std(),2)\n",
    "list_vales=[wage_count,wage_min,wage_max,wage_mean,wage_median,wage_std]\n",
    "index_val=['count','min','max','mean','median','std']\n",
    "pd.DataFrame(list_vales,index=index_val,columns=['prevailing_wage'])"
   ]
  },
  {
   "cell_type": "code",
   "execution_count": 18,
   "id": "52c95f90-f232-4939-b291-244694e9f8e2",
   "metadata": {},
   "outputs": [
    {
     "data": {
      "text/html": [
       "<div>\n",
       "<style scoped>\n",
       "    .dataframe tbody tr th:only-of-type {\n",
       "        vertical-align: middle;\n",
       "    }\n",
       "\n",
       "    .dataframe tbody tr th {\n",
       "        vertical-align: top;\n",
       "    }\n",
       "\n",
       "    .dataframe thead th {\n",
       "        text-align: right;\n",
       "    }\n",
       "</style>\n",
       "<table border=\"1\" class=\"dataframe\">\n",
       "  <thead>\n",
       "    <tr style=\"text-align: right;\">\n",
       "      <th></th>\n",
       "      <th>prevailing_wage</th>\n",
       "    </tr>\n",
       "  </thead>\n",
       "  <tbody>\n",
       "    <tr>\n",
       "      <th>count</th>\n",
       "      <td>25480.000000</td>\n",
       "    </tr>\n",
       "    <tr>\n",
       "      <th>mean</th>\n",
       "      <td>74455.814592</td>\n",
       "    </tr>\n",
       "    <tr>\n",
       "      <th>std</th>\n",
       "      <td>52815.942327</td>\n",
       "    </tr>\n",
       "    <tr>\n",
       "      <th>min</th>\n",
       "      <td>2.136700</td>\n",
       "    </tr>\n",
       "    <tr>\n",
       "      <th>25%</th>\n",
       "      <td>34015.480000</td>\n",
       "    </tr>\n",
       "    <tr>\n",
       "      <th>50%</th>\n",
       "      <td>70308.210000</td>\n",
       "    </tr>\n",
       "    <tr>\n",
       "      <th>75%</th>\n",
       "      <td>107735.512500</td>\n",
       "    </tr>\n",
       "    <tr>\n",
       "      <th>max</th>\n",
       "      <td>319210.270000</td>\n",
       "    </tr>\n",
       "  </tbody>\n",
       "</table>\n",
       "</div>"
      ],
      "text/plain": [
       "       prevailing_wage\n",
       "count     25480.000000\n",
       "mean      74455.814592\n",
       "std       52815.942327\n",
       "min           2.136700\n",
       "25%       34015.480000\n",
       "50%       70308.210000\n",
       "75%      107735.512500\n",
       "max      319210.270000"
      ]
     },
     "execution_count": 18,
     "metadata": {},
     "output_type": "execute_result"
    }
   ],
   "source": [
    "visa_df[['prevailing_wage']].describe()"
   ]
  },
  {
   "cell_type": "code",
   "execution_count": 19,
   "id": "35b3cd52-8dc1-4fb3-8008-1b8a840b6e63",
   "metadata": {},
   "outputs": [
    {
     "data": {
      "text/plain": [
       "['T',\n",
       " '_AXIS_LEN',\n",
       " '_AXIS_ORDERS',\n",
       " '_AXIS_TO_AXIS_NUMBER',\n",
       " '_HANDLED_TYPES',\n",
       " '__abs__',\n",
       " '__add__',\n",
       " '__and__',\n",
       " '__annotations__',\n",
       " '__array__',\n",
       " '__array_priority__',\n",
       " '__array_ufunc__',\n",
       " '__bool__',\n",
       " '__class__',\n",
       " '__contains__',\n",
       " '__copy__',\n",
       " '__dataframe__',\n",
       " '__dataframe_consortium_standard__',\n",
       " '__deepcopy__',\n",
       " '__delattr__',\n",
       " '__delitem__',\n",
       " '__dict__',\n",
       " '__dir__',\n",
       " '__divmod__',\n",
       " '__doc__',\n",
       " '__eq__',\n",
       " '__finalize__',\n",
       " '__floordiv__',\n",
       " '__format__',\n",
       " '__ge__',\n",
       " '__getattr__',\n",
       " '__getattribute__',\n",
       " '__getitem__',\n",
       " '__getstate__',\n",
       " '__gt__',\n",
       " '__hash__',\n",
       " '__iadd__',\n",
       " '__iand__',\n",
       " '__ifloordiv__',\n",
       " '__imod__',\n",
       " '__imul__',\n",
       " '__init__',\n",
       " '__init_subclass__',\n",
       " '__invert__',\n",
       " '__ior__',\n",
       " '__ipow__',\n",
       " '__isub__',\n",
       " '__iter__',\n",
       " '__itruediv__',\n",
       " '__ixor__',\n",
       " '__le__',\n",
       " '__len__',\n",
       " '__lt__',\n",
       " '__matmul__',\n",
       " '__mod__',\n",
       " '__module__',\n",
       " '__mul__',\n",
       " '__ne__',\n",
       " '__neg__',\n",
       " '__new__',\n",
       " '__nonzero__',\n",
       " '__or__',\n",
       " '__pandas_priority__',\n",
       " '__pos__',\n",
       " '__pow__',\n",
       " '__radd__',\n",
       " '__rand__',\n",
       " '__rdivmod__',\n",
       " '__reduce__',\n",
       " '__reduce_ex__',\n",
       " '__repr__',\n",
       " '__rfloordiv__',\n",
       " '__rmatmul__',\n",
       " '__rmod__',\n",
       " '__rmul__',\n",
       " '__ror__',\n",
       " '__round__',\n",
       " '__rpow__',\n",
       " '__rsub__',\n",
       " '__rtruediv__',\n",
       " '__rxor__',\n",
       " '__setattr__',\n",
       " '__setitem__',\n",
       " '__setstate__',\n",
       " '__sizeof__',\n",
       " '__str__',\n",
       " '__sub__',\n",
       " '__subclasshook__',\n",
       " '__truediv__',\n",
       " '__weakref__',\n",
       " '__xor__',\n",
       " '_accessors',\n",
       " '_accum_func',\n",
       " '_agg_examples_doc',\n",
       " '_agg_see_also_doc',\n",
       " '_align_for_op',\n",
       " '_align_frame',\n",
       " '_align_series',\n",
       " '_append',\n",
       " '_arith_method',\n",
       " '_arith_method_with_reindex',\n",
       " '_as_manager',\n",
       " '_attrs',\n",
       " '_box_col_values',\n",
       " '_can_fast_transpose',\n",
       " '_check_inplace_and_allows_duplicate_labels',\n",
       " '_check_is_chained_assignment_possible',\n",
       " '_check_label_or_level_ambiguity',\n",
       " '_check_setitem_copy',\n",
       " '_clear_item_cache',\n",
       " '_clip_with_one_bound',\n",
       " '_clip_with_scalar',\n",
       " '_cmp_method',\n",
       " '_combine_frame',\n",
       " '_consolidate',\n",
       " '_consolidate_inplace',\n",
       " '_construct_axes_dict',\n",
       " '_construct_result',\n",
       " '_constructor',\n",
       " '_constructor_from_mgr',\n",
       " '_constructor_sliced',\n",
       " '_constructor_sliced_from_mgr',\n",
       " '_create_data_for_split_and_tight_to_dict',\n",
       " '_data',\n",
       " '_deprecate_downcast',\n",
       " '_dir_additions',\n",
       " '_dir_deletions',\n",
       " '_dispatch_frame_op',\n",
       " '_drop_axis',\n",
       " '_drop_labels_or_levels',\n",
       " '_ensure_valid_index',\n",
       " '_find_valid_index',\n",
       " '_flags',\n",
       " '_flex_arith_method',\n",
       " '_flex_cmp_method',\n",
       " '_from_arrays',\n",
       " '_from_mgr',\n",
       " '_get_agg_axis',\n",
       " '_get_axis',\n",
       " '_get_axis_name',\n",
       " '_get_axis_number',\n",
       " '_get_axis_resolvers',\n",
       " '_get_block_manager_axis',\n",
       " '_get_bool_data',\n",
       " '_get_cleaned_column_resolvers',\n",
       " '_get_column_array',\n",
       " '_get_index_resolvers',\n",
       " '_get_item_cache',\n",
       " '_get_label_or_level_values',\n",
       " '_get_numeric_data',\n",
       " '_get_value',\n",
       " '_getitem_bool_array',\n",
       " '_getitem_multilevel',\n",
       " '_getitem_nocopy',\n",
       " '_getitem_slice',\n",
       " '_gotitem',\n",
       " '_hidden_attrs',\n",
       " '_indexed_same',\n",
       " '_info_axis',\n",
       " '_info_axis_name',\n",
       " '_info_axis_number',\n",
       " '_info_repr',\n",
       " '_init_mgr',\n",
       " '_inplace_method',\n",
       " '_internal_names',\n",
       " '_internal_names_set',\n",
       " '_is_copy',\n",
       " '_is_homogeneous_type',\n",
       " '_is_label_or_level_reference',\n",
       " '_is_label_reference',\n",
       " '_is_level_reference',\n",
       " '_is_mixed_type',\n",
       " '_is_view',\n",
       " '_iset_item',\n",
       " '_iset_item_mgr',\n",
       " '_iset_not_inplace',\n",
       " '_item_cache',\n",
       " '_iter_column_arrays',\n",
       " '_ixs',\n",
       " '_logical_func',\n",
       " '_logical_method',\n",
       " '_maybe_align_series_as_frame',\n",
       " '_maybe_cache_changed',\n",
       " '_maybe_update_cacher',\n",
       " '_metadata',\n",
       " '_mgr',\n",
       " '_min_count_stat_function',\n",
       " '_needs_reindex_multi',\n",
       " '_pad_or_backfill',\n",
       " '_protect_consolidate',\n",
       " '_reduce',\n",
       " '_reduce_axis1',\n",
       " '_reindex_axes',\n",
       " '_reindex_multi',\n",
       " '_reindex_with_indexers',\n",
       " '_rename',\n",
       " '_replace_columnwise',\n",
       " '_repr_data_resource_',\n",
       " '_repr_fits_horizontal_',\n",
       " '_repr_fits_vertical_',\n",
       " '_repr_html_',\n",
       " '_repr_latex_',\n",
       " '_reset_cache',\n",
       " '_reset_cacher',\n",
       " '_sanitize_column',\n",
       " '_series',\n",
       " '_set_axis',\n",
       " '_set_axis_name',\n",
       " '_set_axis_nocheck',\n",
       " '_set_is_copy',\n",
       " '_set_item',\n",
       " '_set_item_frame_value',\n",
       " '_set_item_mgr',\n",
       " '_set_value',\n",
       " '_setitem_array',\n",
       " '_setitem_frame',\n",
       " '_setitem_slice',\n",
       " '_shift_with_freq',\n",
       " '_should_reindex_frame_op',\n",
       " '_slice',\n",
       " '_sliced_from_mgr',\n",
       " '_stat_function',\n",
       " '_stat_function_ddof',\n",
       " '_take_with_is_copy',\n",
       " '_to_dict_of_blocks',\n",
       " '_to_latex_via_styler',\n",
       " '_typ',\n",
       " '_update_inplace',\n",
       " '_validate_dtype',\n",
       " '_values',\n",
       " '_where',\n",
       " 'abs',\n",
       " 'add',\n",
       " 'add_prefix',\n",
       " 'add_suffix',\n",
       " 'agg',\n",
       " 'aggregate',\n",
       " 'align',\n",
       " 'all',\n",
       " 'any',\n",
       " 'apply',\n",
       " 'applymap',\n",
       " 'asfreq',\n",
       " 'asof',\n",
       " 'assign',\n",
       " 'astype',\n",
       " 'at',\n",
       " 'at_time',\n",
       " 'attrs',\n",
       " 'axes',\n",
       " 'backfill',\n",
       " 'between_time',\n",
       " 'bfill',\n",
       " 'bool',\n",
       " 'boxplot',\n",
       " 'case_id',\n",
       " 'case_status',\n",
       " 'clip',\n",
       " 'columns',\n",
       " 'combine',\n",
       " 'combine_first',\n",
       " 'compare',\n",
       " 'continent',\n",
       " 'convert_dtypes',\n",
       " 'copy',\n",
       " 'corr',\n",
       " 'corrwith',\n",
       " 'count',\n",
       " 'cov',\n",
       " 'cummax',\n",
       " 'cummin',\n",
       " 'cumprod',\n",
       " 'cumsum',\n",
       " 'describe',\n",
       " 'diff',\n",
       " 'div',\n",
       " 'divide',\n",
       " 'dot',\n",
       " 'drop',\n",
       " 'drop_duplicates',\n",
       " 'droplevel',\n",
       " 'dropna',\n",
       " 'dtypes',\n",
       " 'duplicated',\n",
       " 'education_of_employee',\n",
       " 'empty',\n",
       " 'eq',\n",
       " 'equals',\n",
       " 'eval',\n",
       " 'ewm',\n",
       " 'expanding',\n",
       " 'explode',\n",
       " 'ffill',\n",
       " 'fillna',\n",
       " 'filter',\n",
       " 'first',\n",
       " 'first_valid_index',\n",
       " 'flags',\n",
       " 'floordiv',\n",
       " 'from_dict',\n",
       " 'from_records',\n",
       " 'full_time_position',\n",
       " 'ge',\n",
       " 'get',\n",
       " 'groupby',\n",
       " 'gt',\n",
       " 'has_job_experience',\n",
       " 'head',\n",
       " 'hist',\n",
       " 'iat',\n",
       " 'idxmax',\n",
       " 'idxmin',\n",
       " 'iloc',\n",
       " 'index',\n",
       " 'infer_objects',\n",
       " 'info',\n",
       " 'insert',\n",
       " 'interpolate',\n",
       " 'isetitem',\n",
       " 'isin',\n",
       " 'isna',\n",
       " 'isnull',\n",
       " 'items',\n",
       " 'iterrows',\n",
       " 'itertuples',\n",
       " 'join',\n",
       " 'keys',\n",
       " 'kurt',\n",
       " 'kurtosis',\n",
       " 'last',\n",
       " 'last_valid_index',\n",
       " 'le',\n",
       " 'loc',\n",
       " 'lt',\n",
       " 'map',\n",
       " 'mask',\n",
       " 'max',\n",
       " 'mean',\n",
       " 'median',\n",
       " 'melt',\n",
       " 'memory_usage',\n",
       " 'merge',\n",
       " 'min',\n",
       " 'mod',\n",
       " 'mode',\n",
       " 'mul',\n",
       " 'multiply',\n",
       " 'ndim',\n",
       " 'ne',\n",
       " 'nlargest',\n",
       " 'no_of_employees',\n",
       " 'notna',\n",
       " 'notnull',\n",
       " 'nsmallest',\n",
       " 'nunique',\n",
       " 'pad',\n",
       " 'pct_change',\n",
       " 'pipe',\n",
       " 'pivot',\n",
       " 'pivot_table',\n",
       " 'plot',\n",
       " 'pop',\n",
       " 'pow',\n",
       " 'prevailing_wage',\n",
       " 'prod',\n",
       " 'product',\n",
       " 'quantile',\n",
       " 'query',\n",
       " 'radd',\n",
       " 'rank',\n",
       " 'rdiv',\n",
       " 'region_of_employment',\n",
       " 'reindex',\n",
       " 'reindex_like',\n",
       " 'rename',\n",
       " 'rename_axis',\n",
       " 'reorder_levels',\n",
       " 'replace',\n",
       " 'requires_job_training',\n",
       " 'resample',\n",
       " 'reset_index',\n",
       " 'rfloordiv',\n",
       " 'rmod',\n",
       " 'rmul',\n",
       " 'rolling',\n",
       " 'round',\n",
       " 'rpow',\n",
       " 'rsub',\n",
       " 'rtruediv',\n",
       " 'sample',\n",
       " 'select_dtypes',\n",
       " 'sem',\n",
       " 'set_axis',\n",
       " 'set_flags',\n",
       " 'set_index',\n",
       " 'shape',\n",
       " 'shift',\n",
       " 'size',\n",
       " 'skew',\n",
       " 'sort_index',\n",
       " 'sort_values',\n",
       " 'squeeze',\n",
       " 'stack',\n",
       " 'std',\n",
       " 'style',\n",
       " 'sub',\n",
       " 'subtract',\n",
       " 'sum',\n",
       " 'swapaxes',\n",
       " 'swaplevel',\n",
       " 'tail',\n",
       " 'take',\n",
       " 'to_clipboard',\n",
       " 'to_csv',\n",
       " 'to_dict',\n",
       " 'to_excel',\n",
       " 'to_feather',\n",
       " 'to_gbq',\n",
       " 'to_hdf',\n",
       " 'to_html',\n",
       " 'to_json',\n",
       " 'to_latex',\n",
       " 'to_markdown',\n",
       " 'to_numpy',\n",
       " 'to_orc',\n",
       " 'to_parquet',\n",
       " 'to_period',\n",
       " 'to_pickle',\n",
       " 'to_records',\n",
       " 'to_sql',\n",
       " 'to_stata',\n",
       " 'to_string',\n",
       " 'to_timestamp',\n",
       " 'to_xarray',\n",
       " 'to_xml',\n",
       " 'transform',\n",
       " 'transpose',\n",
       " 'truediv',\n",
       " 'truncate',\n",
       " 'tz_convert',\n",
       " 'tz_localize',\n",
       " 'unit_of_wage',\n",
       " 'unstack',\n",
       " 'update',\n",
       " 'value_counts',\n",
       " 'values',\n",
       " 'var',\n",
       " 'where',\n",
       " 'xs',\n",
       " 'yr_of_estab']"
      ]
     },
     "execution_count": 19,
     "metadata": {},
     "output_type": "execute_result"
    }
   ],
   "source": [
    "dir(visa_df)"
   ]
  },
  {
   "cell_type": "code",
   "execution_count": 40,
   "id": "d1a126f7-991e-4939-85fa-5dc409507050",
   "metadata": {},
   "outputs": [],
   "source": [
    "#bound method means we need to use brackets"
   ]
  },
  {
   "cell_type": "markdown",
   "id": "270e3ee9-3193-4d42-b2a4-ce27c9e49578",
   "metadata": {},
   "source": [
    "**percentile and Quantile**\n",
    "\n",
    "- Percentile:\n",
    "      - np.percentile()\n",
    "  \n",
    "      - it will take two arguments\n",
    "  \n",
    "          - data:a\n",
    "  \n",
    "          - percentile:q the value varies from 0 to 100\n",
    "  \n",
    "          - if you want 50p data then p=50\n",
    "  \n",
    "- Quantile:\n",
    "- \n",
    "      - np.quantile()\n",
    "  \n",
    "      - it will take two arguments\n",
    "  \n",
    "          - data:a\n",
    "  \n",
    "          - quantile:q the value varies from 0 to 100\n",
    "  \n",
    "          - if you want 50q data then q=50"
   ]
  },
  {
   "cell_type": "markdown",
   "id": "e92861ee-f743-4fd9-b8d7-d8432501f3fc",
   "metadata": {},
   "source": [
    "**20p-50p-75p**"
   ]
  },
  {
   "cell_type": "code",
   "execution_count": 20,
   "id": "f19440ac-1abd-450a-91ba-fe74a9bd9494",
   "metadata": {},
   "outputs": [
    {
     "name": "stdout",
     "output_type": "stream",
     "text": [
      "the 25% data is 34015.48\n",
      "the 50% data is 70308.21\n",
      "the 75% data is 107735.51\n"
     ]
    }
   ],
   "source": [
    "wage_25p=round(np.percentile(visa_df['prevailing_wage'],25),2)\n",
    "wage_50p=round(np.percentile(visa_df['prevailing_wage'],50),2)\n",
    "wage_75p=round(np.percentile(visa_df['prevailing_wage'],75),2)\n",
    "\n",
    "print(f\"the 25% data is {wage_25p}\")\n",
    "print(f\"the 50% data is {wage_50p}\")\n",
    "print(f\"the 75% data is {wage_75p}\")"
   ]
  },
  {
   "cell_type": "markdown",
   "id": "127ef486-377a-4954-803b-c16be280b553",
   "metadata": {},
   "source": [
    "**quantile**"
   ]
  },
  {
   "cell_type": "code",
   "execution_count": 21,
   "id": "32d00ca4-066a-47f5-b9c5-cfe039ce3e3c",
   "metadata": {},
   "outputs": [
    {
     "name": "stdout",
     "output_type": "stream",
     "text": [
      "the 25% data is 34015.48\n",
      "the 50% data is 70308.21\n",
      "the 75% data is 107735.51\n"
     ]
    }
   ],
   "source": [
    "wage_25q=round(np.quantile(visa_df['prevailing_wage'],0.25),2)\n",
    "wage_50q=round(np.quantile(visa_df['prevailing_wage'],0.50),2)\n",
    "wage_75q=round(np.quantile(visa_df['prevailing_wage'],0.75),2)\n",
    "\n",
    "print(f\"the 25% data is {wage_25q}\")\n",
    "print(f\"the 50% data is {wage_50q}\")\n",
    "print(f\"the 75% data is {wage_75q}\")"
   ]
  },
  {
   "cell_type": "markdown",
   "id": "0231e5f8-fe39-4d19-81b7-b69db61f385d",
   "metadata": {},
   "source": [
    "**understand the percentiles**\n",
    "\n",
    "- defination of 25percentile\n",
    "\n",
    "- there are 25% of employees has salary less than 34015\n",
    "\n",
    "- total employees=25480\n",
    "\n",
    "- 25% of employees=25*25480/100=6370\n",
    "\n",
    "- 6370 employees salary less than 34015"
   ]
  },
  {
   "cell_type": "code",
   "execution_count": 23,
   "id": "b18ef07d-3935-46f5-be1e-6be8a1704661",
   "metadata": {},
   "outputs": [
    {
     "data": {
      "text/plain": [
       "6370"
      ]
     },
     "execution_count": 23,
     "metadata": {},
     "output_type": "execute_result"
    }
   ],
   "source": [
    "con_25p=visa_df['prevailing_wage']<34015\n",
    "len(visa_df[con_25p])"
   ]
  },
  {
   "cell_type": "code",
   "execution_count": 24,
   "id": "bca0277b-ebd7-4320-8388-eef2b8931fa2",
   "metadata": {},
   "outputs": [
    {
     "data": {
      "text/plain": [
       "12740"
      ]
     },
     "execution_count": 24,
     "metadata": {},
     "output_type": "execute_result"
    }
   ],
   "source": [
    "con_50p=visa_df['prevailing_wage']<wage_50p\n",
    "len(visa_df[con_50p])"
   ]
  },
  {
   "cell_type": "code",
   "execution_count": 25,
   "id": "9f7022d3-83af-457a-b48d-e8a2c2b93edd",
   "metadata": {},
   "outputs": [
    {
     "data": {
      "text/plain": [
       "19110"
      ]
     },
     "execution_count": 25,
     "metadata": {},
     "output_type": "execute_result"
    }
   ],
   "source": [
    "con_75p=visa_df['prevailing_wage']<wage_75p\n",
    "len(visa_df[con_75p])"
   ]
  },
  {
   "cell_type": "markdown",
   "id": "d6af206b-eed6-4361-aa0a-54ddb1db49bc",
   "metadata": {},
   "source": [
    "**Emperical rule (68-95-99.7)**\n",
    "\n",
    "<img id=\"dimg_11\" src=\"data:image/png;base64,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\" class=\"YQ4gaf\" height=\"184\" style=\"object-position:50% 46%\" width=\"274\" alt=\"Empirical Rule: Definition &amp; Formula ...\" data-csiid=\"14\" data-atf=\"1\">\n",
    "\n"
   ]
  },
  {
   "cell_type": "markdown",
   "id": "6f9e0408-8e57-415b-9850-e643cad5f534",
   "metadata": {},
   "source": [
    "- first calculate mean value\n",
    "  \n",
    "- second calculate std value\n",
    "  \n",
    "- con1: mean-1*std\n",
    "  \n",
    "- con2: mean+1*std\n",
    "\n",
    "- if you apply abpove conditions on wage date, the output count should be equal to 68 percentile data\n",
    "\n",
    "- 68% of total employees: 17326"
   ]
  },
  {
   "cell_type": "code",
   "execution_count": 26,
   "id": "7b488a9a-83bd-4664-8536-9a6ea12ac218",
   "metadata": {},
   "outputs": [
    {
     "data": {
      "text/plain": [
       "17171"
      ]
     },
     "execution_count": 26,
     "metadata": {},
     "output_type": "execute_result"
    }
   ],
   "source": [
    "v1=wage_mean-1*wage_std\n",
    "v2=wage_mean+1*wage_std\n",
    "\n",
    "con1=visa_df['prevailing_wage']>v1\n",
    "con2=visa_df['prevailing_wage']<v2\n",
    "\n",
    "count1=len(visa_df[con1 & con2])\n",
    "\n",
    "count1"
   ]
  },
  {
   "cell_type": "code",
   "execution_count": 28,
   "id": "04d5ddf2-0d7c-4762-87f1-734c52b82b4a",
   "metadata": {},
   "outputs": [
    {
     "data": {
      "text/plain": [
       "(24582, 24206.0)"
      ]
     },
     "execution_count": 28,
     "metadata": {},
     "output_type": "execute_result"
    }
   ],
   "source": [
    "v1=wage_mean-2*wage_std\n",
    "v2=wage_mean+2*wage_std\n",
    "\n",
    "con1=visa_df['prevailing_wage']>v1\n",
    "con2=visa_df['prevailing_wage']<v2\n",
    "\n",
    "count1=len(visa_df[con1 & con2])\n",
    "\n",
    "count1,95*25480/100"
   ]
  },
  {
   "cell_type": "code",
   "execution_count": 27,
   "id": "a40f14d4-d130-485b-8c80-8e753e1c347c",
   "metadata": {},
   "outputs": [
    {
     "data": {
      "text/plain": [
       "(25186, 25403.56)"
      ]
     },
     "execution_count": 27,
     "metadata": {},
     "output_type": "execute_result"
    }
   ],
   "source": [
    "v1=wage_mean-3*wage_std\n",
    "v2=wage_mean+3*wage_std\n",
    "\n",
    "con1=visa_df['prevailing_wage']>v1\n",
    "con2=visa_df['prevailing_wage']<v2\n",
    "\n",
    "count1=len(visa_df[con1 & con2])\n",
    "\n",
    "count1,99.7*25480/100"
   ]
  },
  {
   "cell_type": "code",
   "execution_count": 11,
   "id": "952bafe0-8bd0-408b-ab5b-0abc39c47e69",
   "metadata": {},
   "outputs": [
    {
     "data": {
      "text/html": [
       "<div>\n",
       "<style scoped>\n",
       "    .dataframe tbody tr th:only-of-type {\n",
       "        vertical-align: middle;\n",
       "    }\n",
       "\n",
       "    .dataframe tbody tr th {\n",
       "        vertical-align: top;\n",
       "    }\n",
       "\n",
       "    .dataframe thead th {\n",
       "        text-align: right;\n",
       "    }\n",
       "</style>\n",
       "<table border=\"1\" class=\"dataframe\">\n",
       "  <thead>\n",
       "    <tr style=\"text-align: right;\">\n",
       "      <th></th>\n",
       "      <th>prevailing_wage</th>\n",
       "    </tr>\n",
       "  </thead>\n",
       "  <tbody>\n",
       "    <tr>\n",
       "      <th>count</th>\n",
       "      <td>25480.00</td>\n",
       "    </tr>\n",
       "    <tr>\n",
       "      <th>min</th>\n",
       "      <td>2.14</td>\n",
       "    </tr>\n",
       "    <tr>\n",
       "      <th>max</th>\n",
       "      <td>319210.27</td>\n",
       "    </tr>\n",
       "    <tr>\n",
       "      <th>mean</th>\n",
       "      <td>74455.81</td>\n",
       "    </tr>\n",
       "    <tr>\n",
       "      <th>median</th>\n",
       "      <td>70308.21</td>\n",
       "    </tr>\n",
       "    <tr>\n",
       "      <th>std</th>\n",
       "      <td>52815.94</td>\n",
       "    </tr>\n",
       "    <tr>\n",
       "      <th>25%</th>\n",
       "      <td>34015.48</td>\n",
       "    </tr>\n",
       "    <tr>\n",
       "      <th>50%</th>\n",
       "      <td>70308.21</td>\n",
       "    </tr>\n",
       "    <tr>\n",
       "      <th>75%</th>\n",
       "      <td>107735.51</td>\n",
       "    </tr>\n",
       "  </tbody>\n",
       "</table>\n",
       "</div>"
      ],
      "text/plain": [
       "        prevailing_wage\n",
       "count          25480.00\n",
       "min                2.14\n",
       "max           319210.27\n",
       "mean           74455.81\n",
       "median         70308.21\n",
       "std            52815.94\n",
       "25%            34015.48\n",
       "50%            70308.21\n",
       "75%           107735.51"
      ]
     },
     "execution_count": 11,
     "metadata": {},
     "output_type": "execute_result"
    }
   ],
   "source": [
    "list_vales=[]\n",
    "wage_count=len(visa_df['prevailing_wage'])\n",
    "wage_max=visa_df['prevailing_wage'].max()\n",
    "wage_min=round(visa_df['prevailing_wage'].min(),2)\n",
    "wage_mean=round(visa_df['prevailing_wage'].mean(),2)\n",
    "wage_median=round(visa_df['prevailing_wage'].median(),2)\n",
    "wage_std=round(visa_df['prevailing_wage'].std(),2)\n",
    "wage_25p=round(np.percentile(visa_df['prevailing_wage'],25),2)\n",
    "wage_50p=round(np.percentile(visa_df['prevailing_wage'],50),2)\n",
    "wage_75p=round(np.percentile(visa_df['prevailing_wage'],75),2)\n",
    "\n",
    "list_vales=[wage_count,wage_min,wage_max,wage_mean,wage_median,wage_std,wage_25p,wage_50p,wage_75p]\n",
    "index_val=['count','min','max','mean','median','std','25%','50%','75%']\n",
    "pd.DataFrame(list_vales,index=index_val,columns=['prevailing_wage'])"
   ]
  },
  {
   "cell_type": "code",
   "execution_count": 13,
   "id": "284dd1f0-295b-4240-bc54-d828cc8fe687",
   "metadata": {},
   "outputs": [
    {
     "data": {
      "text/html": [
       "<div>\n",
       "<style scoped>\n",
       "    .dataframe tbody tr th:only-of-type {\n",
       "        vertical-align: middle;\n",
       "    }\n",
       "\n",
       "    .dataframe tbody tr th {\n",
       "        vertical-align: top;\n",
       "    }\n",
       "\n",
       "    .dataframe thead th {\n",
       "        text-align: right;\n",
       "    }\n",
       "</style>\n",
       "<table border=\"1\" class=\"dataframe\">\n",
       "  <thead>\n",
       "    <tr style=\"text-align: right;\">\n",
       "      <th></th>\n",
       "      <th>no_of_employees</th>\n",
       "      <th>yr_of_estab</th>\n",
       "      <th>prevailing_wage</th>\n",
       "    </tr>\n",
       "  </thead>\n",
       "  <tbody>\n",
       "    <tr>\n",
       "      <th>count</th>\n",
       "      <td>25480.00</td>\n",
       "      <td>25480.00</td>\n",
       "      <td>25480.00</td>\n",
       "    </tr>\n",
       "    <tr>\n",
       "      <th>min</th>\n",
       "      <td>-26.00</td>\n",
       "      <td>1800.00</td>\n",
       "      <td>2.14</td>\n",
       "    </tr>\n",
       "    <tr>\n",
       "      <th>max</th>\n",
       "      <td>602069.00</td>\n",
       "      <td>2016.00</td>\n",
       "      <td>319210.27</td>\n",
       "    </tr>\n",
       "    <tr>\n",
       "      <th>mean</th>\n",
       "      <td>5667.04</td>\n",
       "      <td>1979.41</td>\n",
       "      <td>74455.81</td>\n",
       "    </tr>\n",
       "    <tr>\n",
       "      <th>median</th>\n",
       "      <td>2109.00</td>\n",
       "      <td>1997.00</td>\n",
       "      <td>70308.21</td>\n",
       "    </tr>\n",
       "    <tr>\n",
       "      <th>std</th>\n",
       "      <td>22877.93</td>\n",
       "      <td>42.37</td>\n",
       "      <td>52815.94</td>\n",
       "    </tr>\n",
       "    <tr>\n",
       "      <th>25%</th>\n",
       "      <td>1022.00</td>\n",
       "      <td>1976.00</td>\n",
       "      <td>34015.48</td>\n",
       "    </tr>\n",
       "    <tr>\n",
       "      <th>50%</th>\n",
       "      <td>2109.00</td>\n",
       "      <td>1997.00</td>\n",
       "      <td>70308.21</td>\n",
       "    </tr>\n",
       "    <tr>\n",
       "      <th>75%</th>\n",
       "      <td>3504.00</td>\n",
       "      <td>2005.00</td>\n",
       "      <td>107735.51</td>\n",
       "    </tr>\n",
       "  </tbody>\n",
       "</table>\n",
       "</div>"
      ],
      "text/plain": [
       "        no_of_employees  yr_of_estab  prevailing_wage\n",
       "count          25480.00     25480.00         25480.00\n",
       "min              -26.00      1800.00             2.14\n",
       "max           602069.00      2016.00        319210.27\n",
       "mean            5667.04      1979.41         74455.81\n",
       "median          2109.00      1997.00         70308.21\n",
       "std            22877.93        42.37         52815.94\n",
       "25%             1022.00      1976.00         34015.48\n",
       "50%             2109.00      1997.00         70308.21\n",
       "75%             3504.00      2005.00        107735.51"
      ]
     },
     "execution_count": 13,
     "metadata": {},
     "output_type": "execute_result"
    }
   ],
   "source": [
    "l1=[]\n",
    "cols=visa_df.select_dtypes(exclude='object').columns\n",
    "for i in cols:\n",
    "    countt=len(visa_df[i])\n",
    "    maax=round(visa_df[i].max(),2)\n",
    "    minn=round(visa_df[i].min(),2)\n",
    "    mean=round(visa_df[i].mean(),2)\n",
    "    median=round(visa_df[i].median(),2)\n",
    "    std=round(visa_df[i].std(),2)\n",
    "    p_25=round(np.percentile(visa_df[i],25),2)\n",
    "    p_50=round(np.percentile(visa_df[i],50),2)\n",
    "    p_75=round(np.percentile(visa_df[i],75),2)\n",
    "    l1.append([countt,minn,maax,mean,median,std,p_25,p_50,p_75])\n",
    "l1\n",
    "index_val=['count','min','max','mean','median','std','25%','50%','75%']\n",
    "df=pd.DataFrame(l1,columns=index_val,index=cols).T\n",
    "df"
   ]
  },
  {
   "cell_type": "code",
   "execution_count": 10,
   "id": "47025fd7-c521-4323-a97a-ba1f3c2bdb44",
   "metadata": {},
   "outputs": [
    {
     "data": {
      "text/plain": [
       "Index(['no_of_employees', 'yr_of_estab', 'prevailing_wage'], dtype='object')"
      ]
     },
     "execution_count": 10,
     "metadata": {},
     "output_type": "execute_result"
    }
   ],
   "source": [
    "cols=visa_df.select_dtypes(exclude='object').columns\n",
    "cols"
   ]
  },
  {
   "cell_type": "code",
   "execution_count": 8,
   "id": "0139a36e-aa3d-4751-a2df-4238c1da2414",
   "metadata": {},
   "outputs": [
    {
     "data": {
      "text/plain": [
       "dtype('float64')"
      ]
     },
     "execution_count": 8,
     "metadata": {},
     "output_type": "execute_result"
    }
   ],
   "source": [
    "visa_df.select_dtypes(include=\"float64\").columns\n",
    "visa_df['prevailing_wage'].dtype"
   ]
  },
  {
   "cell_type": "markdown",
   "id": "75a8024c-8f90-48ef-9531-fcb0cf61e2cc",
   "metadata": {},
   "source": [
    "**Describe**\n",
    "\n",
    "#it is mainly numerical data"
   ]
  },
  {
   "cell_type": "code",
   "execution_count": 50,
   "id": "7453a34a-153c-4204-a1ba-e6f48991b997",
   "metadata": {},
   "outputs": [
    {
     "data": {
      "text/html": [
       "<div>\n",
       "<style scoped>\n",
       "    .dataframe tbody tr th:only-of-type {\n",
       "        vertical-align: middle;\n",
       "    }\n",
       "\n",
       "    .dataframe tbody tr th {\n",
       "        vertical-align: top;\n",
       "    }\n",
       "\n",
       "    .dataframe thead th {\n",
       "        text-align: right;\n",
       "    }\n",
       "</style>\n",
       "<table border=\"1\" class=\"dataframe\">\n",
       "  <thead>\n",
       "    <tr style=\"text-align: right;\">\n",
       "      <th></th>\n",
       "      <th>no_of_employees</th>\n",
       "      <th>yr_of_estab</th>\n",
       "      <th>prevailing_wage</th>\n",
       "    </tr>\n",
       "  </thead>\n",
       "  <tbody>\n",
       "    <tr>\n",
       "      <th>count</th>\n",
       "      <td>25480.000000</td>\n",
       "      <td>25480.000000</td>\n",
       "      <td>25480.000000</td>\n",
       "    </tr>\n",
       "    <tr>\n",
       "      <th>mean</th>\n",
       "      <td>5667.043210</td>\n",
       "      <td>1979.409929</td>\n",
       "      <td>74455.814592</td>\n",
       "    </tr>\n",
       "    <tr>\n",
       "      <th>std</th>\n",
       "      <td>22877.928848</td>\n",
       "      <td>42.366929</td>\n",
       "      <td>52815.942327</td>\n",
       "    </tr>\n",
       "    <tr>\n",
       "      <th>min</th>\n",
       "      <td>-26.000000</td>\n",
       "      <td>1800.000000</td>\n",
       "      <td>2.136700</td>\n",
       "    </tr>\n",
       "    <tr>\n",
       "      <th>25%</th>\n",
       "      <td>1022.000000</td>\n",
       "      <td>1976.000000</td>\n",
       "      <td>34015.480000</td>\n",
       "    </tr>\n",
       "    <tr>\n",
       "      <th>50%</th>\n",
       "      <td>2109.000000</td>\n",
       "      <td>1997.000000</td>\n",
       "      <td>70308.210000</td>\n",
       "    </tr>\n",
       "    <tr>\n",
       "      <th>75%</th>\n",
       "      <td>3504.000000</td>\n",
       "      <td>2005.000000</td>\n",
       "      <td>107735.512500</td>\n",
       "    </tr>\n",
       "    <tr>\n",
       "      <th>max</th>\n",
       "      <td>602069.000000</td>\n",
       "      <td>2016.000000</td>\n",
       "      <td>319210.270000</td>\n",
       "    </tr>\n",
       "  </tbody>\n",
       "</table>\n",
       "</div>"
      ],
      "text/plain": [
       "       no_of_employees   yr_of_estab  prevailing_wage\n",
       "count     25480.000000  25480.000000     25480.000000\n",
       "mean       5667.043210   1979.409929     74455.814592\n",
       "std       22877.928848     42.366929     52815.942327\n",
       "min         -26.000000   1800.000000         2.136700\n",
       "25%        1022.000000   1976.000000     34015.480000\n",
       "50%        2109.000000   1997.000000     70308.210000\n",
       "75%        3504.000000   2005.000000    107735.512500\n",
       "max      602069.000000   2016.000000    319210.270000"
      ]
     },
     "execution_count": 50,
     "metadata": {},
     "output_type": "execute_result"
    }
   ],
   "source": [
    "visa_df.describe()"
   ]
  },
  {
   "cell_type": "markdown",
   "id": "4657dfc5-0743-43fd-b01d-a5f548fa6fdf",
   "metadata": {},
   "source": [
    "**Histogram**"
   ]
  },
  {
   "cell_type": "markdown",
   "id": "007c4a9e-85b4-4ce4-8051-d944a5548097",
   "metadata": {},
   "source": [
    "- Histogram can get by matplotlib\n",
    "- Histogram can get by seaborn also\n",
    "- plt.hist()"
   ]
  },
  {
   "cell_type": "code",
   "execution_count": 58,
   "id": "7e0aa6bf-51f6-4559-b11e-3c1888633162",
   "metadata": {},
   "outputs": [
    {
     "data": {
      "text/plain": [
       "(array([6038., 5504., 5681., 4551., 2334.,  624.,  373.,  240.,  114.,\n",
       "          21.]),\n",
       " array([2.13670000e+00, 3.19229500e+04, 6.38437634e+04, 9.57645767e+04,\n",
       "        1.27685390e+05, 1.59606203e+05, 1.91527017e+05, 2.23447830e+05,\n",
       "        2.55368643e+05, 2.87289457e+05, 3.19210270e+05]),\n",
       " <BarContainer object of 10 artists>)"
      ]
     },
     "execution_count": 58,
     "metadata": {},
     "output_type": "execute_result"
    },
    {
     "data": {
      "image/png": "[encoded data removed]",
      "text/plain": [
       "<Figure size 640x480 with 1 Axes>"
      ]
     },
     "metadata": {},
     "output_type": "display_data"
    }
   ],
   "source": [
    "import matplotlib.pyplot as plt\n",
    "plt.hist(visa_df['prevailing_wage'])\n"
   ]
  },
  {
   "cell_type": "markdown",
   "id": "42b65afe-1cb6-4875-84c7-c56c5799c669",
   "metadata": {},
   "source": [
    "from interval range\n",
    "\n",
    "    - 2.13670000e+00 to 3.19229500e+04\n",
    "\n",
    "        - 6038 members have salary\n",
    "\n",
    "    - 3.19229500e+04 to 6.38437634e+04\n",
    "\n",
    "        - 5504 members have salary\n",
    "\n",
    "- Histogram will give 3 outputs\n",
    "\n",
    "    - Frequency\n",
    "\n",
    "        - in each interval how many observations are there\n",
    "\n",
    "    - interval\n",
    "\n",
    "        - interval range\n",
    "\n",
    "    - number of intervals\n"
   ]
  },
  {
   "cell_type": "markdown",
   "id": "ee4ec7a4-6df5-423a-abab-9fce3525b206",
   "metadata": {},
   "source": [
    "**check point-1**\n"
   ]
  },
  {
   "cell_type": "code",
   "execution_count": 60,
   "id": "1d104048-4d98-4777-ae32-6990a2ab1212",
   "metadata": {},
   "outputs": [
    {
     "data": {
      "text/plain": [
       "6037"
      ]
     },
     "execution_count": 60,
     "metadata": {},
     "output_type": "execute_result"
    }
   ],
   "source": [
    "con1=visa_df['prevailing_wage']>2.1367\n",
    "con2=visa_df['prevailing_wage']<31922.95\n",
    "len(visa_df[con1&con2])"
   ]
  },
  {
   "cell_type": "markdown",
   "id": "b1820331-ae9a-484e-a0c8-9739e1a0b719",
   "metadata": {},
   "source": [
    "**Bins**\n",
    "\n",
    "#Bins means how many interval we want that we need to give in bins "
   ]
  },
  {
   "cell_type": "code",
   "execution_count": 16,
   "id": "d22f0c49-cdc5-41d7-9d8b-31f80c57d787",
   "metadata": {},
   "outputs": [
    {
     "data": {
      "text/plain": [
       "Text(0, 0.5, 'count')"
      ]
     },
     "execution_count": 16,
     "metadata": {},
     "output_type": "execute_result"
    },
    {
     "data": {
      "image/png": "[encoded data removed]",
      "text/plain": [
       "<Figure size 1800x300 with 3 Axes>"
      ]
     },
     "metadata": {},
     "output_type": "display_data"
    }
   ],
   "source": [
    "import matplotlib.pyplot as plt\n",
    "plt.figure(figsize=(18,3))\n",
    "plt.subplot(1,3,1)\n",
    "plt.title(\"Histogram\")\n",
    "f,i,n=plt.hist(visa_df['prevailing_wage'],bins=40)\n",
    "plt.xlabel(\"class interval\")\n",
    "plt.ylabel(\"count\")\n",
    "\n",
    "import matplotlib.pyplot as plt\n",
    "plt.subplot(1,3,2)\n",
    "plt.title(\"Histogram\")\n",
    "f,i,n=plt.hist(visa_df['no_of_employees'],bins=40)\n",
    "plt.xlabel(\"class interval\")\n",
    "plt.ylabel(\"count\")\n",
    "\n",
    "import matplotlib.pyplot as plt\n",
    "plt.subplot(1,3,3)\n",
    "plt.title(\"Histogram\")\n",
    "f,i,n=plt.hist(visa_df['yr_of_estab'],bins=40)\n",
    "plt.xlabel(\"class interval\")\n",
    "plt.ylabel(\"count\")"
   ]
  },
  {
   "cell_type": "code",
   "execution_count": 15,
   "id": "cef316f0-940e-4906-bdf5-4ca3c26d50a3",
   "metadata": {},
   "outputs": [
    {
     "data": {
      "image/png": "[encoded data removed]",
      "text/plain": [
       "<Figure size 1800x300 with 3 Axes>"
      ]
     },
     "metadata": {},
     "output_type": "display_data"
    }
   ],
   "source": [
    "import matplotlib.pyplot as plt\n",
    "plt.figure(figsize=(18,3))\n",
    "for i in range(len(cols)):\n",
    "    plt.subplot(1,len(cols),i+1)\n",
    "    plt.title(f\"Histogram of {cols[i]}\")\n",
    "    f,i,n=plt.hist(visa_df['prevailing_wage'],bins=20)\n",
    "    plt.xlabel(\"class interval\")\n",
    "    plt.ylabel(\"count\")\n"
   ]
  },
  {
   "cell_type": "markdown",
   "id": "54a3e569-6534-4afd-956e-dea9f8987b06",
   "metadata": {},
   "source": [
    "**Histogram using seaborn**\n",
    "\n",
    "- hisplot\n",
    "\n",
    "- distplot"
   ]
  },
  {
   "cell_type": "code",
   "execution_count": 76,
   "id": "86c2dee2-f563-4939-bc1f-c998bbe049cd",
   "metadata": {},
   "outputs": [
    {
     "data": {
      "text/plain": [
       "<Axes: xlabel='prevailing_wage', ylabel='Count'>"
      ]
     },
     "execution_count": 76,
     "metadata": {},
     "output_type": "execute_result"
    },
    {
     "data": {
      "image/png": "[encoded data removed]",
      "text/plain": [
       "<Figure size 640x480 with 1 Axes>"
      ]
     },
     "metadata": {},
     "output_type": "display_data"
    }
   ],
   "source": [
    "import warnings\n",
    "warnings.filterwarnings(\"ignore\")\n",
    "import seaborn as sns\n",
    "sns.histplot(visa_df['prevailing_wage'])"
   ]
  },
  {
   "cell_type": "code",
   "execution_count": 77,
   "id": "8f09fb26-b203-46a7-ba3e-467733878f51",
   "metadata": {},
   "outputs": [
    {
     "data": {
      "text/plain": [
       "<Axes: xlabel='prevailing_wage', ylabel='Density'>"
      ]
     },
     "execution_count": 77,
     "metadata": {},
     "output_type": "execute_result"
    },
    {
     "data": {
      "image/png": "[encoded data removed]",
      "text/plain": [
       "<Figure size 640x480 with 1 Axes>"
      ]
     },
     "metadata": {},
     "output_type": "display_data"
    }
   ],
   "source": [
    "sns.distplot(visa_df['prevailing_wage'])"
   ]
  },
  {
   "cell_type": "code",
   "execution_count": null,
   "id": "4548f1f8-8207-4f5c-84ae-b22e0928aa25",
   "metadata": {},
   "outputs": [],
   "source": []
  }
 ],
 "metadata": {
  "kernelspec": {
   "display_name": "Python 3 (ipykernel)",
   "language": "python",
   "name": "python3"
  },
  "language_info": {
   "codemirror_mode": {
    "name": "ipython",
    "version": 3
   },
   "file_extension": ".py",
   "mimetype": "text/x-python",
   "name": "python",
   "nbconvert_exporter": "python",
   "pygments_lexer": "ipython3",
   "version": "3.11.7"
  }
 },
 "nbformat": 4,
 "nbformat_minor": 5
}
